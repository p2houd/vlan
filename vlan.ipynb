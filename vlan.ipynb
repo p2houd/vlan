{
  "nbformat": 4,
  "nbformat_minor": 0,
  "metadata": {
    "colab": {
      "provenance": [],
      "authorship_tag": "ABX9TyMDQ1Ze/mW0AkQVtPS0Xxxh",
      "include_colab_link": true
    },
    "kernelspec": {
      "name": "python3",
      "display_name": "Python 3"
    },
    "language_info": {
      "name": "python"
    }
  },
  "cells": [
    {
      "cell_type": "markdown",
      "metadata": {
        "id": "view-in-github",
        "colab_type": "text"
      },
      "source": [
        "<a href=\"https://colab.research.google.com/github/p2houd/vlan/blob/main/vlan.ipynb\" target=\"_parent\"><img src=\"https://colab.research.google.com/assets/colab-badge.svg\" alt=\"Open In Colab\"/></a>"
      ]
    },
    {
      "cell_type": "code",
      "execution_count": 11,
      "metadata": {
        "colab": {
          "base_uri": "https://localhost:8080/",
          "height": 300
        },
        "id": "KE9UuNBw0558",
        "outputId": "95cba61c-6773-454a-e833-fff1bd0e4471"
      },
      "outputs": [
        {
          "output_type": "execute_result",
          "data": {
            "text/plain": [
              "<pandas.io.formats.style.Styler at 0x78df6bbef1d0>"
            ],
            "text/html": [
              "<style type=\"text/css\">\n",
              "</style>\n",
              "<table id=\"T_5a8a5\" class=\"dataframe\">\n",
              "  <thead>\n",
              "    <tr>\n",
              "      <th class=\"blank level0\" >&nbsp;</th>\n",
              "      <th id=\"T_5a8a5_level0_col0\" class=\"col_heading level0 col0\" >network</th>\n",
              "      <th id=\"T_5a8a5_level0_col1\" class=\"col_heading level0 col1\" >vlan</th>\n",
              "      <th id=\"T_5a8a5_level0_col2\" class=\"col_heading level0 col2\" >device</th>\n",
              "    </tr>\n",
              "  </thead>\n",
              "  <tbody>\n",
              "    <tr>\n",
              "      <th id=\"T_5a8a5_level0_row0\" class=\"row_heading level0 row0\" >1</th>\n",
              "      <td id=\"T_5a8a5_row0_col0\" class=\"data row0 col0\" >192.168.32.0/24</td>\n",
              "      <td id=\"T_5a8a5_row0_col1\" class=\"data row0 col1\" >1152</td>\n",
              "      <td id=\"T_5a8a5_row0_col2\" class=\"data row0 col2\" >wifi1lan</td>\n",
              "    </tr>\n",
              "    <tr>\n",
              "      <th id=\"T_5a8a5_level0_row1\" class=\"row_heading level0 row1\" >2</th>\n",
              "      <td id=\"T_5a8a5_row1_col0\" class=\"data row1 col0\" >192.168.36.0/27</td>\n",
              "      <td id=\"T_5a8a5_row1_col1\" class=\"data row1 col1\" >1184</td>\n",
              "      <td id=\"T_5a8a5_row1_col2\" class=\"data row1 col2\" >wifi2wan</td>\n",
              "    </tr>\n",
              "    <tr>\n",
              "      <th id=\"T_5a8a5_level0_row2\" class=\"row_heading level0 row2\" >3</th>\n",
              "      <td id=\"T_5a8a5_row2_col0\" class=\"data row2 col0\" >192.168.34.0/24</td>\n",
              "      <td id=\"T_5a8a5_row2_col1\" class=\"data row2 col1\" >1168</td>\n",
              "      <td id=\"T_5a8a5_row2_col2\" class=\"data row2 col2\" >wifi2lan</td>\n",
              "    </tr>\n",
              "    <tr>\n",
              "      <th id=\"T_5a8a5_level0_row3\" class=\"row_heading level0 row3\" >4</th>\n",
              "      <td id=\"T_5a8a5_row3_col0\" class=\"data row3 col0\" >192.168.33.0/27</td>\n",
              "      <td id=\"T_5a8a5_row3_col1\" class=\"data row3 col1\" >1160</td>\n",
              "      <td id=\"T_5a8a5_row3_col2\" class=\"data row3 col2\" >core1</td>\n",
              "    </tr>\n",
              "    <tr>\n",
              "      <th id=\"T_5a8a5_level0_row4\" class=\"row_heading level0 row4\" >5</th>\n",
              "      <td id=\"T_5a8a5_row4_col0\" class=\"data row4 col0\" >192.168.36.32/27</td>\n",
              "      <td id=\"T_5a8a5_row4_col1\" class=\"data row4 col1\" >1185</td>\n",
              "      <td id=\"T_5a8a5_row4_col2\" class=\"data row4 col2\" >backup1</td>\n",
              "    </tr>\n",
              "    <tr>\n",
              "      <th id=\"T_5a8a5_level0_row5\" class=\"row_heading level0 row5\" >6</th>\n",
              "      <td id=\"T_5a8a5_row5_col0\" class=\"data row5 col0\" >192.168.33.32/27</td>\n",
              "      <td id=\"T_5a8a5_row5_col1\" class=\"data row5 col1\" >1161</td>\n",
              "      <td id=\"T_5a8a5_row5_col2\" class=\"data row5 col2\" >data1</td>\n",
              "    </tr>\n",
              "    <tr>\n",
              "      <th id=\"T_5a8a5_level0_row6\" class=\"row_heading level0 row6\" >7</th>\n",
              "      <td id=\"T_5a8a5_row6_col0\" class=\"data row6 col0\" >192.168.33.64/27</td>\n",
              "      <td id=\"T_5a8a5_row6_col1\" class=\"data row6 col1\" >1162</td>\n",
              "      <td id=\"T_5a8a5_row6_col2\" class=\"data row6 col2\" >immich</td>\n",
              "    </tr>\n",
              "    <tr>\n",
              "      <th id=\"T_5a8a5_level0_row7\" class=\"row_heading level0 row7\" >8</th>\n",
              "      <td id=\"T_5a8a5_row7_col0\" class=\"data row7 col0\" >192.168.33.96/27</td>\n",
              "      <td id=\"T_5a8a5_row7_col1\" class=\"data row7 col1\" >1163</td>\n",
              "      <td id=\"T_5a8a5_row7_col2\" class=\"data row7 col2\" >nextcloud</td>\n",
              "    </tr>\n",
              "  </tbody>\n",
              "</table>\n"
            ]
          },
          "metadata": {},
          "execution_count": 11
        }
      ],
      "source": [
        "!pip3 install netaddr 1>/dev/null 2>/dev/null\n",
        "!pip3 install matplotlib 1>/dev/null 2>/dev/null\n",
        "import pandas as pd\n",
        "import numpy as np\n",
        "import matplotlib as mpl\n",
        "from netaddr import *\n",
        "\n",
        "\n",
        "middle_subnet_length = 24\n",
        "vlan_subnet_length = 27\n",
        "\n",
        "all_networks = [x.network for x in IPNetwork('192.168.0.0/16').subnet(vlan_subnet_length)]\n",
        "locations_bias = 896\n",
        "\n",
        "locations = {\n",
        "    'test1': IPNetwork('192.168.0.0/20'),\n",
        "    'cloudru1': IPNetwork('192.168.16.0/20'),\n",
        "    'dom1': IPNetwork('192.168.32.0/20'),\n",
        "}\n",
        "\n",
        "def get_vlan(bias, network, all_networks):\n",
        "    return bias+all_networks.index(network.network)\n",
        "\n",
        "devices = [\n",
        "    {\n",
        "        'network': IPNetwork(item['network']),\n",
        "        'vlan': get_vlan(\n",
        "            bias=locations_bias,\n",
        "            network=IPNetwork(item['network']),\n",
        "            all_networks=all_networks,\n",
        "        ),\n",
        "        'device': item['device'],\n",
        "    }\n",
        "    for item in [\n",
        "        {'network': '192.168.32.0/24', 'device': 'wifi1lan'},\n",
        "        {'network': '192.168.36.0/27', 'device': 'wifi2wan'},\n",
        "        {'network': '192.168.34.0/24', 'device': 'wifi2lan'},\n",
        "        {'network': '192.168.33.0/27', 'device': 'core1'},\n",
        "        {'network': '192.168.36.32/27', 'device': 'backup1'},\n",
        "        {'network': '192.168.33.32/27', 'device': 'data1'},\n",
        "        {'network': '192.168.33.64/27', 'device': 'immich'},\n",
        "        {'network': '192.168.33.96/27', 'device': 'nextcloud'},\n",
        "    ]\n",
        "]\n",
        "\n",
        "df = pd.DataFrame(devices).reindex(range(len(devices)), fill_value='')\n",
        "\n",
        "df.index = df.index + 1\n",
        "df.style.format(precision=0)\n",
        "\n",
        "# Example output\n",
        "# +----+------------------+------+-----------+\n",
        "# | No |     Network      | VLAN |  Device   |\n",
        "# +----+------------------+------+-----------+\n",
        "# |  1 | 192.168.32.0/24  | 1152 | wifi1lan  |\n",
        "# |  2 | 192.168.36.0/27  | 1184 | wifi2wan  |\n",
        "# |  3 | 192.168.34.0/24  | 1168 | wifi2lan  |\n",
        "# |  4 | 192.168.33.0/27  | 1160 |  core1    |\n",
        "# |  5 | 192.168.36.32/27 | 1185 |  backup1  |\n",
        "# |  6 | 192.168.33.32/27 | 1161 |  data1    |\n",
        "# |  7 | 192.168.33.48/27 | 1162 |  immich   |\n",
        "# |  8 | 192.168.33.96/27 | 1163 | nextcloud |\n",
        "# +----+------------------+------+-----------+"
      ]
    }
  ]
}