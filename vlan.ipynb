{
  "nbformat": 4,
  "nbformat_minor": 0,
  "metadata": {
    "colab": {
      "provenance": [],
      "authorship_tag": "ABX9TyNFwLOPRjO6vX0SgEZ/aFJT",
      "include_colab_link": true
    },
    "kernelspec": {
      "name": "python3",
      "display_name": "Python 3"
    },
    "language_info": {
      "name": "python"
    }
  },
  "cells": [
    {
      "cell_type": "markdown",
      "metadata": {
        "id": "view-in-github",
        "colab_type": "text"
      },
      "source": [
        "<a href=\"https://colab.research.google.com/github/p2houd/vlan/blob/main/vlan.ipynb\" target=\"_parent\"><img src=\"https://colab.research.google.com/assets/colab-badge.svg\" alt=\"Open In Colab\"/></a>"
      ]
    },
    {
      "cell_type": "code",
      "execution_count": 4,
      "metadata": {
        "colab": {
          "base_uri": "https://localhost:8080/",
          "height": 206
        },
        "id": "KE9UuNBw0558",
        "outputId": "327464a8-5bd6-4e56-9755-aa21a828c5ee"
      },
      "outputs": [
        {
          "output_type": "execute_result",
          "data": {
            "text/plain": [
              "<pandas.io.formats.style.Styler at 0x7cf86c945ad0>"
            ],
            "text/html": [
              "<style type=\"text/css\">\n",
              "</style>\n",
              "<table id=\"T_427ce\" class=\"dataframe\">\n",
              "  <thead>\n",
              "    <tr>\n",
              "      <th class=\"blank level0\" >&nbsp;</th>\n",
              "      <th id=\"T_427ce_level0_col0\" class=\"col_heading level0 col0\" >network</th>\n",
              "      <th id=\"T_427ce_level0_col1\" class=\"col_heading level0 col1\" >vlan</th>\n",
              "      <th id=\"T_427ce_level0_col2\" class=\"col_heading level0 col2\" >device</th>\n",
              "    </tr>\n",
              "  </thead>\n",
              "  <tbody>\n",
              "    <tr>\n",
              "      <th id=\"T_427ce_level0_row0\" class=\"row_heading level0 row0\" >1</th>\n",
              "      <td id=\"T_427ce_row0_col0\" class=\"data row0 col0\" >192.168.32.0/24</td>\n",
              "      <td id=\"T_427ce_row0_col1\" class=\"data row0 col1\" >1152</td>\n",
              "      <td id=\"T_427ce_row0_col2\" class=\"data row0 col2\" >dom1</td>\n",
              "    </tr>\n",
              "    <tr>\n",
              "      <th id=\"T_427ce_level0_row1\" class=\"row_heading level0 row1\" >2</th>\n",
              "      <td id=\"T_427ce_row1_col0\" class=\"data row1 col0\" >192.168.33.0/27</td>\n",
              "      <td id=\"T_427ce_row1_col1\" class=\"data row1 col1\" >1160</td>\n",
              "      <td id=\"T_427ce_row1_col2\" class=\"data row1 col2\" >core1</td>\n",
              "    </tr>\n",
              "    <tr>\n",
              "      <th id=\"T_427ce_level0_row2\" class=\"row_heading level0 row2\" >3</th>\n",
              "      <td id=\"T_427ce_row2_col0\" class=\"data row2 col0\" >192.168.33.32/27</td>\n",
              "      <td id=\"T_427ce_row2_col1\" class=\"data row2 col1\" >1161</td>\n",
              "      <td id=\"T_427ce_row2_col2\" class=\"data row2 col2\" >data1</td>\n",
              "    </tr>\n",
              "    <tr>\n",
              "      <th id=\"T_427ce_level0_row3\" class=\"row_heading level0 row3\" >4</th>\n",
              "      <td id=\"T_427ce_row3_col0\" class=\"data row3 col0\" >192.168.34.0/27</td>\n",
              "      <td id=\"T_427ce_row3_col1\" class=\"data row3 col1\" >1168</td>\n",
              "      <td id=\"T_427ce_row3_col2\" class=\"data row3 col2\" >immich</td>\n",
              "    </tr>\n",
              "    <tr>\n",
              "      <th id=\"T_427ce_level0_row4\" class=\"row_heading level0 row4\" >5</th>\n",
              "      <td id=\"T_427ce_row4_col0\" class=\"data row4 col0\" >192.168.34.32/27</td>\n",
              "      <td id=\"T_427ce_row4_col1\" class=\"data row4 col1\" >1169</td>\n",
              "      <td id=\"T_427ce_row4_col2\" class=\"data row4 col2\" >nextcloud</td>\n",
              "    </tr>\n",
              "  </tbody>\n",
              "</table>\n"
            ]
          },
          "metadata": {},
          "execution_count": 4
        }
      ],
      "source": [
        "!pip3 install netaddr 1>/dev/null 2>/dev/null\n",
        "!pip3 install matplotlib 1>/dev/null 2>/dev/null\n",
        "import pandas as pd\n",
        "import numpy as np\n",
        "import matplotlib as mpl\n",
        "from netaddr import *\n",
        "\n",
        "\n",
        "middle_subnet_length = 24\n",
        "vlan_subnet_length = 27\n",
        "\n",
        "all_networks = [x.network for x in IPNetwork('192.168.0.0/16').subnet(vlan_subnet_length)]\n",
        "locations_bias = 896\n",
        "\n",
        "locations = {\n",
        "    'test1': IPNetwork('192.168.0.0/20'),\n",
        "    'cloudru1': IPNetwork('192.168.16.0/20'),\n",
        "    'dom1': IPNetwork('192.168.32.0/20'),\n",
        "}\n",
        "\n",
        "def get_vlan(bias, network, all_networks):\n",
        "    return bias+all_networks.index(network.network)\n",
        "\n",
        "devices = [\n",
        "    {\n",
        "        'network': IPNetwork(item['network']),\n",
        "        'vlan': get_vlan(\n",
        "            bias=locations_bias,\n",
        "            network=IPNetwork(item['network']),\n",
        "            all_networks=all_networks,\n",
        "        ),\n",
        "        'device': item['device'],\n",
        "    }\n",
        "    for item in [\n",
        "        {'network': '192.168.32.0/24', 'device': 'dom1'},\n",
        "        {'network': '192.168.33.0/27', 'device': 'core1'},\n",
        "        {'network': '192.168.33.32/27', 'device': 'data1'},\n",
        "        {'network': '192.168.34.0/27', 'device': 'immich'},\n",
        "        {'network': '192.168.34.32/27', 'device': 'nextcloud'},\n",
        "    ]\n",
        "]\n",
        "\n",
        "df = pd.DataFrame(devices).reindex(range(len(devices)), fill_value='')\n",
        "\n",
        "df.index = df.index + 1\n",
        "df.style.format(precision=0)"
      ]
    }
  ]
}